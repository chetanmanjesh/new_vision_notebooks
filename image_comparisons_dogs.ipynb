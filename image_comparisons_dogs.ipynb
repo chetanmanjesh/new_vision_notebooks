{
 "cells": [
  {
   "cell_type": "code",
   "execution_count": 1,
   "metadata": {},
   "outputs": [],
   "source": [
    "import numpy as np\n",
    "import matplotlib.pyplot as plt\n",
    "import matplotlib.image as mpimg\n",
    "import time"
   ]
  },
  {
   "cell_type": "code",
   "execution_count": 2,
   "metadata": {},
   "outputs": [],
   "source": [
    "dog_embeddings = np.load('dog_pairs_cumulative/cumulative_embedding_output_dogs.npy')[:10000,:]\n",
    "\n",
    "dog_subembeddings = np.load('dog_pairs_cumulative/cumulative_sub_embedding_output_dogs.npy')[:10000,:]"
   ]
  },
  {
   "cell_type": "markdown",
   "metadata": {},
   "source": [
    "# compute 90th percentile thresholds between all embeddings and sub-embeddings"
   ]
  },
  {
   "cell_type": "code",
   "execution_count": 3,
   "metadata": {},
   "outputs": [],
   "source": [
    "# get embedding percentile thresholds\n",
    "embeddings_for_percentile_comp= np.squeeze(np.load('alexnet_imgnet_embeddings_prelu_noise.npy'))\n",
    "\n",
    "sorted_indices_embedding = np.argsort(embeddings_for_percentile_comp,axis = 0)\n",
    "\n",
    "indices_90_embedding = sorted_indices_embedding[900,:]\n",
    "\n",
    "embedding_threshold_90 = embeddings_for_percentile_comp[indices_90_embedding, range(4096)].reshape(1,4096)\n",
    "\n",
    "\n",
    "# get sub-embedding percentile thresholds\n",
    "sub_embeddings_for_percentile_comp = np.squeeze(np.load('alexnet_imgnet_sub_embeddings_prelu_noise.npy'))\n",
    "\n",
    "sorted_indices_sub_embedding = np.argsort(sub_embeddings_for_percentile_comp,axis = 0)\n",
    "\n",
    "indices_90_sub_embedding = sorted_indices_sub_embedding[900,:]\n",
    "\n",
    "sub_embedding_threshold_90 = sub_embeddings_for_percentile_comp[indices_90_sub_embedding, range(4096)].reshape(1,4096)\n"
   ]
  },
  {
   "cell_type": "markdown",
   "metadata": {},
   "source": [
    "# compute number of co-active features between all pairs of embeddings"
   ]
  },
  {
   "cell_type": "code",
   "execution_count": null,
   "metadata": {},
   "outputs": [],
   "source": [
    "t1 = time.time()\n",
    "\n",
    "dog_emb_active = (dog_embeddings >= embedding_threshold_90)*1\n",
    "\n",
    "dog_emb_active_t = dog_emb_active.T\n",
    "\n",
    "co_active_features_dog_emb = np.matmul(dog_emb_active,dog_emb_active_t)\n",
    "\n",
    "co_active_features_dog_emb_sorted = np.argsort(-co_active_features_dog_emb,axis = 1)\n",
    "\n",
    "t2 = time.time()\n",
    "\n",
    "print('time taken ='+str((t2-t1)*1000)+' seconds')"
   ]
  },
  {
   "cell_type": "markdown",
   "metadata": {},
   "source": [
    "# compute number of co-active features between all pairs of sub-embeddings"
   ]
  },
  {
   "cell_type": "code",
   "execution_count": null,
   "metadata": {},
   "outputs": [],
   "source": [
    "dog_subemb_active = (dog_subembeddings >= sub_embedding_threshold_90)*1\n",
    "\n",
    "dog_subemb_active_t = dog_subemb_active.T\n",
    "\n",
    "co_active_features_dog_subemb = np.matmul(dog_subemb_active,dog_subemb_active_t)\n",
    "\n",
    "co_active_features_dog_subemb_sorted = np.argsort(-co_active_features_dog_subemb,axis = 1)\n",
    "\n",
    "print('time taken ='+str((t2-t1)*1000)+' seconds')"
   ]
  },
  {
   "cell_type": "markdown",
   "metadata": {},
   "source": [
    "# compute cosine similarity between all pairs of embeddings"
   ]
  },
  {
   "cell_type": "code",
   "execution_count": null,
   "metadata": {},
   "outputs": [],
   "source": [
    "dog_embeddings_norm = (dog_embeddings/np.sqrt(np.sum(dog_embeddings*dog_embeddings, axis=1)).reshape(-1,1))\n",
    "\n",
    "dog_embeddings_norm_t = dog_embeddings_norm.T\n",
    "\n",
    "cos_sims = np.matmul(dog_embeddings_norm,dog_embeddings_norm_t)\n",
    "\n",
    "cos_sims_sorted = np.argsort(-cos_sims,axis = 1)"
   ]
  },
  {
   "cell_type": "markdown",
   "metadata": {},
   "source": [
    "# compute cosine similarity between all pairs of sub-embeddings"
   ]
  },
  {
   "cell_type": "code",
   "execution_count": null,
   "metadata": {},
   "outputs": [],
   "source": [
    "dog_subembeddings_norm = (dog_subembeddings/np.sqrt(np.sum(dog_subembeddings*dog_subembeddings, axis=1)).reshape(-1,1))\n",
    "\n",
    "dog_subembeddings_norm_t = dog_subembeddings_norm.T\n",
    "\n",
    "cos_sims_sub = np.matmul(dog_subembeddings_norm,dog_subembeddings_norm_t)\n",
    "\n",
    "cos_sims_sorted_sub = np.argsort(-cos_sims_sub,axis = 1)"
   ]
  },
  {
   "cell_type": "markdown",
   "metadata": {},
   "source": [
    "# display reference image and 10 most similar images according to different metrics"
   ]
  },
  {
   "cell_type": "code",
   "execution_count": null,
   "metadata": {
    "scrolled": false
   },
   "outputs": [],
   "source": [
    "np.random.seed(10)\n",
    "sampled_images = np.random.choice(range(10000),20,replace=False)\n",
    "\n",
    "for main_img in sampled_images:\n",
    "    img = mpimg.imread('dog_pairs_cumulative/count_'+str(main_img)+'.jpg')\n",
    "    plt.figure(figsize=(5.5,2.5))\n",
    "    plt.imshow(img)\n",
    "    plt.axis('off')\n",
    "    plt.title('reference image')\n",
    "    plt.show()\n",
    "    for sim in range(4):\n",
    "        fig,axs = plt.subplots(1,10, figsize = (24,2.5))\n",
    "        fig.tight_layout(pad=2)\n",
    "        plt.subplots_adjust(top=1.0)\n",
    "        if sim == 0:\n",
    "            print('metric: cosine similarity between embeddings')\n",
    "            sorted_array = cos_sims_sorted\n",
    "            similarity_array = cos_sims\n",
    "            \n",
    "        elif sim == 1:\n",
    "            print('metric: number of co-active embedding features (out of 4096 features)')\n",
    "            sorted_array = co_active_features_dog_emb_sorted\n",
    "            similarity_array = co_active_features_dog_emb\n",
    "\n",
    "        \n",
    "        elif sim == 2:\n",
    "            print('metric: cosine similarity between sub-embeddings')\n",
    "            sorted_array = cos_sims_sorted_sub\n",
    "            similarity_array = cos_sims_sub\n",
    "            \n",
    "        elif sim == 3:\n",
    "            print('metric: number of co-active sub-embedding features (out of 4096 features)')\n",
    "            sorted_array =co_active_features_dog_subemb_sorted\n",
    "            similarity_array = co_active_features_dog_subemb\n",
    "\n",
    "            \n",
    "        #plt.suptitle(title,fontsize=15)\n",
    "        \n",
    "        for index in range(10):\n",
    "            \n",
    "            img_index = sorted_array[main_img,index+1]\n",
    "            img = mpimg.imread('dog_pairs_cumulative/count_'+str(img_index)+'.jpg')\n",
    "            axs[index].imshow(img, aspect=\"auto\")\n",
    "            axs[index].axis('off')\n",
    "            if sim == 0 or sim == 2:\n",
    "                score = round(similarity_array[main_img,img_index], 2)\n",
    "            else:\n",
    "                score = similarity_array[main_img,img_index]\n",
    "            axs[index].set_title('score = '+str(score),fontsize=20)\n",
    "        plt.show()\n",
    "        plt.close()"
   ]
  },
  {
   "cell_type": "code",
   "execution_count": null,
   "metadata": {},
   "outputs": [],
   "source": []
  }
 ],
 "metadata": {
  "kernelspec": {
   "display_name": "Python 3",
   "language": "python",
   "name": "python3"
  },
  "language_info": {
   "codemirror_mode": {
    "name": "ipython",
    "version": 3
   },
   "file_extension": ".py",
   "mimetype": "text/x-python",
   "name": "python",
   "nbconvert_exporter": "python",
   "pygments_lexer": "ipython3",
   "version": "3.7.1"
  }
 },
 "nbformat": 4,
 "nbformat_minor": 2
}
